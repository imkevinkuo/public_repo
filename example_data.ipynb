{
 "cells": [
  {
   "cell_type": "markdown",
   "metadata": {},
   "source": [
    "CIFAR10"
   ]
  },
  {
   "cell_type": "code",
   "execution_count": 1,
   "metadata": {},
   "outputs": [
    {
     "name": "stderr",
     "output_type": "stream",
     "text": [
      "/home/kevinkuo/miniconda3/envs/fedhp/lib/python3.9/site-packages/tqdm/auto.py:22: TqdmWarning: IProgress not found. Please update jupyter and ipywidgets. See https://ipywidgets.readthedocs.io/en/stable/user_install.html\n",
      "  from .autonotebook import tqdm as notebook_tqdm\n"
     ]
    },
    {
     "name": "stdout",
     "output_type": "stream",
     "text": [
      "Files already downloaded and verified\n",
      "Files already downloaded and verified\n"
     ]
    }
   ],
   "source": [
    "import torch\n",
    "import torchvision\n",
    "import torchvision.transforms as transforms\n",
    "import numpy as np\n",
    "from torchvision.datasets import CIFAR10\n",
    "import numpy as np\n",
    "import scipy.stats as stats\n",
    "import math\n",
    "import random\n",
    "\n",
    "SEED = 0\n",
    "transform = transforms.Compose([\n",
    "    transforms.ToTensor(),\n",
    "    transforms.Normalize((0.4914, 0.4822, 0.4465), (0.2023, 0.1994, 0.2010)),\n",
    "])\n",
    "\n",
    "train_eval_dataset = CIFAR10(root='./data/cifar10', train=True, download=True, transform=transform)\n",
    "test_dataset = CIFAR10(root='./data/cifar10', train=False, download=True, transform=transform)"
   ]
  },
  {
   "cell_type": "code",
   "execution_count": 2,
   "metadata": {},
   "outputs": [],
   "source": [
    "num_classes = 10\n",
    "ex_per_class = len(train_eval_dataset) // num_classes\n",
    "sorted_data = sorted(train_eval_dataset, key=lambda x: x[1]) # sort by label\n",
    "labels = [i for _, i in sorted_data]\n",
    "label_idx = [labels.index(i) for i in range(10)]\n",
    "\n",
    "# hold out 1000 from each class\n",
    "np.random.seed(SEED)\n",
    "num_eval = ex_per_class // 5\n",
    "eval_idx = np.concatenate([min_idx + np.random.choice(ex_per_class, num_eval, replace=False) for min_idx in label_idx])\n",
    "eval_dataset = torch.utils.data.Subset(sorted_data, eval_idx)\n",
    "train_idx = np.delete(np.arange(50000), eval_idx)\n",
    "train_dataset = torch.utils.data.Subset(sorted_data, train_idx)"
   ]
  },
  {
   "cell_type": "code",
   "execution_count": 5,
   "metadata": {},
   "outputs": [],
   "source": [
    "np.random.seed(SEED)\n",
    "ALPHA = 0.1\n",
    "alpha = np.repeat(ALPHA, num_classes)\n",
    "rv_tr = stats.dirichlet.rvs(alpha, size=400, random_state=SEED) \n",
    "rv_tr = rv_tr / rv_tr.sum(axis=0)\n",
    "rv_ts = stats.dirichlet.rvs(alpha, size=100, random_state=SEED) \n",
    "rv_ts = rv_ts / rv_ts.sum(axis=0)"
   ]
  },
  {
   "cell_type": "code",
   "execution_count": 10,
   "metadata": {},
   "outputs": [],
   "source": [
    "def split_data(dataset, client_idxs, rv):\n",
    "    split_total = []\n",
    "    for r in rv[client_idxs]:\n",
    "        split = [round(p*(len(dataset)//num_classes)) for p in r]\n",
    "        split_total.append(split)\n",
    "    split_total = np.array(split_total)\n",
    "    # split_total[client_idx][label_idx] = label_freq\n",
    "\n",
    "    print(\"Num of examples per user, mean/std\", split_total.sum(axis=1).mean(), split_total.sum(axis=1).std())\n",
    "\n",
    "    sorted_data = sorted(dataset, key=lambda x: x[1]) # sort by label\n",
    "    cs_split = np.cumsum(split_total, axis=0)\n",
    "    labels = [i for _, i in sorted_data]\n",
    "    label_idx = [labels.index(i) for i in range(10)]\n",
    "    max_ex = len(dataset) // num_classes\n",
    "    cs_split[cs_split > max_ex] = max_ex\n",
    "    cs_split[-1] = max_ex # sets whole row\n",
    "\n",
    "    # iter over clients\n",
    "    split_dataset = []\n",
    "    for row, (split, cumsum) in enumerate(zip(split_total, cs_split)):\n",
    "        user = []\n",
    "        # iter over labels\n",
    "        for col, (num, cs) in enumerate(zip(split, cumsum)):\n",
    "            if num == 0: continue\n",
    "            start = label_idx[col] + cs - num\n",
    "            end = label_idx[col] + cs\n",
    "            # while end < len(labels) and labels[end] != col:\n",
    "            #     end -= 1\n",
    "            user.extend(range(start, end))\n",
    "        split_dataset.append(user)\n",
    "    \n",
    "    tasks = []\n",
    "    for u in split_dataset:\n",
    "        task = list(zip(*(sorted_data[i] for i in u)))\n",
    "        tasks.append(task)\n",
    "    return tasks"
   ]
  },
  {
   "cell_type": "code",
   "execution_count": 11,
   "metadata": {},
   "outputs": [
    {
     "name": "stdout",
     "output_type": "stream",
     "text": [
      "Num of examples per user, mean/std 99.83 8.701212559178174\n",
      "Num of examples per user, mean/std 99.96 12.56496717066941\n"
     ]
    }
   ],
   "source": [
    "train_split = split_data(train_dataset, range(0,400), rv_tr) # 80/20 train clients\n",
    "eval_split = split_data(eval_dataset, range(0,100), rv_ts) # 100 (10k) eval client"
   ]
  },
  {
   "cell_type": "code",
   "execution_count": 34,
   "metadata": {},
   "outputs": [
    {
     "data": {
      "text/plain": [
       "(array([ 1.,  0.,  0., 92.,  0.,  8.,  0.,  0.,  0.,  9.]),\n",
       " array([1. , 1.8, 2.6, 3.4, 4.2, 5. , 5.8, 6.6, 7.4, 8.2, 9. ]),\n",
       " <BarContainer object of 10 artists>)"
      ]
     },
     "execution_count": 34,
     "metadata": {},
     "output_type": "execute_result"
    },
    {
     "data": {
      "image/png": "[encoded data removed]",
      "text/plain": [
       "<Figure size 432x288 with 1 Axes>"
      ]
     },
     "metadata": {
      "needs_background": "light"
     },
     "output_type": "display_data"
    }
   ],
   "source": [
    "import matplotlib.pyplot as plt\n",
    "plt.hist(train_split[0][1]) # labels of client 0"
   ]
  },
  {
   "cell_type": "code",
   "execution_count": null,
   "metadata": {},
   "outputs": [],
   "source": []
  },
  {
   "cell_type": "markdown",
   "metadata": {},
   "source": [
    "FEMNIST"
   ]
  },
  {
   "cell_type": "code",
   "execution_count": null,
   "metadata": {},
   "outputs": [],
   "source": [
    "# git clone https://github.com/TalwalkarLab/leaf\n",
    "# cd leaf/data/femnist\n",
    "# ./preprocess.sh -s niid --sf 1.0 -k 1 -t user --tf 0.9"
   ]
  },
  {
   "cell_type": "code",
   "execution_count": 26,
   "metadata": {},
   "outputs": [],
   "source": [
    "import json\n",
    "with open(\"/home/kevinkuo/leaf/data/femnist/data/test/all_data_0_niid_1_keep_1_test_9.json\") as f:\n",
    "    data = json.load(f)"
   ]
  },
  {
   "cell_type": "code",
   "execution_count": 41,
   "metadata": {},
   "outputs": [
    {
     "data": {
      "text/plain": [
       "'f2530_91'"
      ]
     },
     "execution_count": 41,
     "metadata": {},
     "output_type": "execute_result"
    }
   ],
   "source": [
    "user = data['users'][0]\n",
    "user"
   ]
  },
  {
   "cell_type": "code",
   "execution_count": 45,
   "metadata": {},
   "outputs": [],
   "source": [
    "task = data['user_data'][user]\n",
    "x, y = task['x'], task['y']"
   ]
  },
  {
   "cell_type": "code",
   "execution_count": 47,
   "metadata": {},
   "outputs": [
    {
     "data": {
      "text/plain": [
       "(array([90., 41., 10.,  3.,  6.,  8.,  7.,  7.,  6.,  6.]),\n",
       " array([ 0. ,  6.1, 12.2, 18.3, 24.4, 30.5, 36.6, 42.7, 48.8, 54.9, 61. ]),\n",
       " <BarContainer object of 10 artists>)"
      ]
     },
     "execution_count": 47,
     "metadata": {},
     "output_type": "execute_result"
    },
    {
     "data": {
      "image/png": "[encoded data removed]",
      "text/plain": [
       "<Figure size 432x288 with 1 Axes>"
      ]
     },
     "metadata": {
      "needs_background": "light"
     },
     "output_type": "display_data"
    }
   ],
   "source": [
    "plt.hist(y)"
   ]
  },
  {
   "cell_type": "code",
   "execution_count": null,
   "metadata": {},
   "outputs": [],
   "source": []
  },
  {
   "cell_type": "code",
   "execution_count": null,
   "metadata": {},
   "outputs": [],
   "source": []
  }
 ],
 "metadata": {
  "kernelspec": {
   "display_name": "Python 3.9.12 ('fedhp')",
   "language": "python",
   "name": "python3"
  },
  "language_info": {
   "codemirror_mode": {
    "name": "ipython",
    "version": 3
   },
   "file_extension": ".py",
   "mimetype": "text/x-python",
   "name": "python",
   "nbconvert_exporter": "python",
   "pygments_lexer": "ipython3",
   "version": "3.9.12"
  },
  "orig_nbformat": 4,
  "vscode": {
   "interpreter": {
    "hash": "2560ada3f4d7fdbcbb7b257c3488df62ea6c62668237778b471beff4f413bc2a"
   }
  }
 },
 "nbformat": 4,
 "nbformat_minor": 2
}
